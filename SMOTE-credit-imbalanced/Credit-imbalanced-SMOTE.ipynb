{
 "cells": [
  {
   "cell_type": "code",
   "execution_count": 1,
   "id": "0213bcf1",
   "metadata": {},
   "outputs": [],
   "source": [
    "import pandas as pd\n",
    "from matplotlib import pyplot as plt\n",
    "import numpy as np\n",
    "%matplotlib inline"
   ]
  },
  {
   "cell_type": "code",
   "execution_count": 2,
   "id": "da7b1b0c",
   "metadata": {},
   "outputs": [],
   "source": [
    "import warnings\n",
    "warnings.filterwarnings('ignore')"
   ]
  },
  {
   "cell_type": "code",
   "execution_count": 3,
   "id": "7735a988",
   "metadata": {},
   "outputs": [
    {
     "data": {
      "text/html": [
       "<div>\n",
       "<style scoped>\n",
       "    .dataframe tbody tr th:only-of-type {\n",
       "        vertical-align: middle;\n",
       "    }\n",
       "\n",
       "    .dataframe tbody tr th {\n",
       "        vertical-align: top;\n",
       "    }\n",
       "\n",
       "    .dataframe thead th {\n",
       "        text-align: right;\n",
       "    }\n",
       "</style>\n",
       "<table border=\"1\" class=\"dataframe\">\n",
       "  <thead>\n",
       "    <tr style=\"text-align: right;\">\n",
       "      <th></th>\n",
       "      <th>Time</th>\n",
       "      <th>V1</th>\n",
       "      <th>V2</th>\n",
       "      <th>V3</th>\n",
       "      <th>V4</th>\n",
       "      <th>V5</th>\n",
       "      <th>V6</th>\n",
       "      <th>V7</th>\n",
       "      <th>V8</th>\n",
       "      <th>V9</th>\n",
       "      <th>...</th>\n",
       "      <th>V21</th>\n",
       "      <th>V22</th>\n",
       "      <th>V23</th>\n",
       "      <th>V24</th>\n",
       "      <th>V25</th>\n",
       "      <th>V26</th>\n",
       "      <th>V27</th>\n",
       "      <th>V28</th>\n",
       "      <th>Amount</th>\n",
       "      <th>Class</th>\n",
       "    </tr>\n",
       "  </thead>\n",
       "  <tbody>\n",
       "    <tr>\n",
       "      <th>225062</th>\n",
       "      <td>144086.0</td>\n",
       "      <td>2.014303</td>\n",
       "      <td>0.222328</td>\n",
       "      <td>-1.730133</td>\n",
       "      <td>0.517234</td>\n",
       "      <td>0.304026</td>\n",
       "      <td>-1.365999</td>\n",
       "      <td>0.364623</td>\n",
       "      <td>-0.437297</td>\n",
       "      <td>0.416314</td>\n",
       "      <td>...</td>\n",
       "      <td>0.222693</td>\n",
       "      <td>0.836251</td>\n",
       "      <td>-0.054554</td>\n",
       "      <td>-0.114675</td>\n",
       "      <td>0.279291</td>\n",
       "      <td>-0.100055</td>\n",
       "      <td>0.004405</td>\n",
       "      <td>-0.026299</td>\n",
       "      <td>24.12</td>\n",
       "      <td>0</td>\n",
       "    </tr>\n",
       "    <tr>\n",
       "      <th>76060</th>\n",
       "      <td>56379.0</td>\n",
       "      <td>-0.499146</td>\n",
       "      <td>1.225395</td>\n",
       "      <td>2.125937</td>\n",
       "      <td>2.726520</td>\n",
       "      <td>0.248282</td>\n",
       "      <td>0.593994</td>\n",
       "      <td>0.465769</td>\n",
       "      <td>0.206636</td>\n",
       "      <td>-1.652407</td>\n",
       "      <td>...</td>\n",
       "      <td>-0.125575</td>\n",
       "      <td>-0.360794</td>\n",
       "      <td>-0.217753</td>\n",
       "      <td>0.000089</td>\n",
       "      <td>0.127605</td>\n",
       "      <td>0.138406</td>\n",
       "      <td>0.075714</td>\n",
       "      <td>0.076037</td>\n",
       "      <td>15.91</td>\n",
       "      <td>0</td>\n",
       "    </tr>\n",
       "    <tr>\n",
       "      <th>89720</th>\n",
       "      <td>62698.0</td>\n",
       "      <td>-0.534420</td>\n",
       "      <td>0.918204</td>\n",
       "      <td>2.042266</td>\n",
       "      <td>0.455937</td>\n",
       "      <td>0.032230</td>\n",
       "      <td>0.639126</td>\n",
       "      <td>0.083430</td>\n",
       "      <td>-0.890892</td>\n",
       "      <td>0.473683</td>\n",
       "      <td>...</td>\n",
       "      <td>0.692664</td>\n",
       "      <td>-0.084574</td>\n",
       "      <td>-0.182048</td>\n",
       "      <td>-0.430580</td>\n",
       "      <td>0.117894</td>\n",
       "      <td>-0.435793</td>\n",
       "      <td>-0.152142</td>\n",
       "      <td>-0.183264</td>\n",
       "      <td>9.99</td>\n",
       "      <td>0</td>\n",
       "    </tr>\n",
       "    <tr>\n",
       "      <th>134611</th>\n",
       "      <td>80885.0</td>\n",
       "      <td>1.211280</td>\n",
       "      <td>0.639500</td>\n",
       "      <td>-0.452050</td>\n",
       "      <td>0.897389</td>\n",
       "      <td>0.166469</td>\n",
       "      <td>-1.167578</td>\n",
       "      <td>0.360975</td>\n",
       "      <td>-0.218111</td>\n",
       "      <td>-0.240264</td>\n",
       "      <td>...</td>\n",
       "      <td>-0.101293</td>\n",
       "      <td>-0.185911</td>\n",
       "      <td>-0.017291</td>\n",
       "      <td>0.296851</td>\n",
       "      <td>0.464924</td>\n",
       "      <td>0.377353</td>\n",
       "      <td>-0.011742</td>\n",
       "      <td>0.043437</td>\n",
       "      <td>0.76</td>\n",
       "      <td>0</td>\n",
       "    </tr>\n",
       "    <tr>\n",
       "      <th>191073</th>\n",
       "      <td>129094.0</td>\n",
       "      <td>-0.651906</td>\n",
       "      <td>-5.522984</td>\n",
       "      <td>-2.372308</td>\n",
       "      <td>0.216573</td>\n",
       "      <td>-2.216428</td>\n",
       "      <td>0.065825</td>\n",
       "      <td>1.114007</td>\n",
       "      <td>-0.374656</td>\n",
       "      <td>-0.414680</td>\n",
       "      <td>...</td>\n",
       "      <td>0.620974</td>\n",
       "      <td>-1.537952</td>\n",
       "      <td>-0.842458</td>\n",
       "      <td>-0.388440</td>\n",
       "      <td>-1.068635</td>\n",
       "      <td>-0.811146</td>\n",
       "      <td>-0.282257</td>\n",
       "      <td>0.192348</td>\n",
       "      <td>1458.05</td>\n",
       "      <td>0</td>\n",
       "    </tr>\n",
       "  </tbody>\n",
       "</table>\n",
       "<p>5 rows × 31 columns</p>\n",
       "</div>"
      ],
      "text/plain": [
       "            Time        V1        V2        V3        V4        V5        V6  \\\n",
       "225062  144086.0  2.014303  0.222328 -1.730133  0.517234  0.304026 -1.365999   \n",
       "76060    56379.0 -0.499146  1.225395  2.125937  2.726520  0.248282  0.593994   \n",
       "89720    62698.0 -0.534420  0.918204  2.042266  0.455937  0.032230  0.639126   \n",
       "134611   80885.0  1.211280  0.639500 -0.452050  0.897389  0.166469 -1.167578   \n",
       "191073  129094.0 -0.651906 -5.522984 -2.372308  0.216573 -2.216428  0.065825   \n",
       "\n",
       "              V7        V8        V9  ...       V21       V22       V23  \\\n",
       "225062  0.364623 -0.437297  0.416314  ...  0.222693  0.836251 -0.054554   \n",
       "76060   0.465769  0.206636 -1.652407  ... -0.125575 -0.360794 -0.217753   \n",
       "89720   0.083430 -0.890892  0.473683  ...  0.692664 -0.084574 -0.182048   \n",
       "134611  0.360975 -0.218111 -0.240264  ... -0.101293 -0.185911 -0.017291   \n",
       "191073  1.114007 -0.374656 -0.414680  ...  0.620974 -1.537952 -0.842458   \n",
       "\n",
       "             V24       V25       V26       V27       V28   Amount  Class  \n",
       "225062 -0.114675  0.279291 -0.100055  0.004405 -0.026299    24.12      0  \n",
       "76060   0.000089  0.127605  0.138406  0.075714  0.076037    15.91      0  \n",
       "89720  -0.430580  0.117894 -0.435793 -0.152142 -0.183264     9.99      0  \n",
       "134611  0.296851  0.464924  0.377353 -0.011742  0.043437     0.76      0  \n",
       "191073 -0.388440 -1.068635 -0.811146 -0.282257  0.192348  1458.05      0  \n",
       "\n",
       "[5 rows x 31 columns]"
      ]
     },
     "execution_count": 3,
     "metadata": {},
     "output_type": "execute_result"
    }
   ],
   "source": [
    "df = pd.read_csv(\"C:/Users/Admin/Downloads/archive/creditcard.csv\")\n",
    "df.sample(5)"
   ]
  },
  {
   "cell_type": "code",
   "execution_count": 4,
   "id": "7d1d5adc",
   "metadata": {},
   "outputs": [
    {
     "data": {
      "text/plain": [
       "0    284315\n",
       "1       492\n",
       "Name: Class, dtype: int64"
      ]
     },
     "execution_count": 4,
     "metadata": {},
     "output_type": "execute_result"
    }
   ],
   "source": [
    "df.Class.value_counts()"
   ]
  },
  {
   "cell_type": "code",
   "execution_count": 5,
   "id": "80c9bacf",
   "metadata": {},
   "outputs": [],
   "source": [
    "X = df.drop('Class',axis='columns')\n",
    "y = df['Class']"
   ]
  },
  {
   "cell_type": "code",
   "execution_count": 6,
   "id": "026e9321",
   "metadata": {},
   "outputs": [
    {
     "data": {
      "text/plain": [
       "0    284315\n",
       "1    284315\n",
       "Name: Class, dtype: int64"
      ]
     },
     "execution_count": 6,
     "metadata": {},
     "output_type": "execute_result"
    }
   ],
   "source": [
    "from imblearn.over_sampling import SMOTE\n",
    "\n",
    "smote = SMOTE(sampling_strategy='minority')\n",
    "X_sm, y_sm = smote.fit_resample(X, y)\n",
    "\n",
    "y_sm.value_counts()"
   ]
  },
  {
   "cell_type": "code",
   "execution_count": 7,
   "id": "6856bcd7",
   "metadata": {},
   "outputs": [],
   "source": [
    "from sklearn.model_selection import train_test_split\n",
    "X_train, X_test, y_train, y_test = train_test_split(X_sm, y_sm, test_size=0.2, random_state=15, stratify=y_sm)"
   ]
  },
  {
   "cell_type": "code",
   "execution_count": 8,
   "id": "22948845",
   "metadata": {},
   "outputs": [
    {
     "data": {
      "text/plain": [
       "0    227452\n",
       "1    227452\n",
       "Name: Class, dtype: int64"
      ]
     },
     "execution_count": 8,
     "metadata": {},
     "output_type": "execute_result"
    }
   ],
   "source": [
    "# Number of classes in training Data\n",
    "y_train.value_counts()"
   ]
  },
  {
   "cell_type": "code",
   "execution_count": 21,
   "id": "a4e8da31",
   "metadata": {},
   "outputs": [],
   "source": [
    "from sklearn.linear_model import LogisticRegression\n",
    "from sklearn.metrics import classification_report"
   ]
  },
  {
   "cell_type": "code",
   "execution_count": 41,
   "id": "cc1577f0",
   "metadata": {},
   "outputs": [],
   "source": [
    "from sklearn.metrics import accuracy_score\n",
    "def log_reg(X_train, y_train, X_test, y_test, weights):\n",
    "    if weights==-1:\n",
    "        model = LogisticRegression()\n",
    "    else:\n",
    "        model = LogisticRegression(class_weight={0:weights[0], 1:weights[1]})\n",
    "\n",
    "    model.fit(X_train, y_train)\n",
    "    acc = model.score(X_test, y_test)\n",
    "    print(\"Accuracy\", acc, \"\\n\")\n",
    "\n",
    "    y_pred = model.predict(X_test)\n",
    "    print(\"preds\", y_pred[:5], \"\\n\")\n",
    "\n",
    "    cl_rep = classification_report(y_test,y_pred)\n",
    "    print(cl_rep)\n",
    "\n",
    "    return y_pred"
   ]
  },
  {
   "cell_type": "code",
   "execution_count": 42,
   "id": "67c1291b",
   "metadata": {
    "scrolled": false
   },
   "outputs": [
    {
     "name": "stdout",
     "output_type": "stream",
     "text": [
      "Accuracy 0.9739725304679668 \n",
      "\n",
      "preds [0 0 1 0 1] \n",
      "\n",
      "              precision    recall  f1-score   support\n",
      "\n",
      "           0       0.97      0.98      0.97     56863\n",
      "           1       0.98      0.96      0.97     56863\n",
      "\n",
      "    accuracy                           0.97    113726\n",
      "   macro avg       0.97      0.97      0.97    113726\n",
      "weighted avg       0.97      0.97      0.97    113726\n",
      "\n"
     ]
    },
    {
     "data": {
      "text/plain": [
       "array([0, 0, 1, ..., 1, 1, 0], dtype=int64)"
      ]
     },
     "execution_count": 42,
     "metadata": {},
     "output_type": "execute_result"
    }
   ],
   "source": [
    "weights = -1 # pass -1 to use Logistics Regression without weights\n",
    "log_reg(X_train, y_train, X_test, y_test, weights)"
   ]
  },
  {
   "cell_type": "code",
   "execution_count": 43,
   "id": "783d864f",
   "metadata": {
    "scrolled": true
   },
   "outputs": [
    {
     "name": "stdout",
     "output_type": "stream",
     "text": [
      "Accuracy 0.9739725304679668 \n",
      "\n",
      "preds [0 0 1 0 1] \n",
      "\n",
      "              precision    recall  f1-score   support\n",
      "\n",
      "           0       0.97      0.98      0.97     56863\n",
      "           1       0.98      0.96      0.97     56863\n",
      "\n",
      "    accuracy                           0.97    113726\n",
      "   macro avg       0.97      0.97      0.97    113726\n",
      "weighted avg       0.97      0.97      0.97    113726\n",
      "\n",
      "Confusion matrix:\n",
      "[[55904   959]\n",
      " [ 2001 54862]]\n"
     ]
    }
   ],
   "source": [
    "from sklearn.metrics import confusion_matrix\n",
    "y_predict = log_reg(X_train, y_train, X_test, y_test, weights)\n",
    "cnf_matrix = confusion_matrix(y_test, y_predict)\n",
    "print('Confusion matrix:')\n",
    "print(cnf_matrix)"
   ]
  },
  {
   "cell_type": "code",
   "execution_count": null,
   "id": "4cd0086b",
   "metadata": {},
   "outputs": [],
   "source": []
  }
 ],
 "metadata": {
  "kernelspec": {
   "display_name": "Python 3 (ipykernel)",
   "language": "python",
   "name": "python3"
  },
  "language_info": {
   "codemirror_mode": {
    "name": "ipython",
    "version": 3
   },
   "file_extension": ".py",
   "mimetype": "text/x-python",
   "name": "python",
   "nbconvert_exporter": "python",
   "pygments_lexer": "ipython3",
   "version": "3.9.12"
  }
 },
 "nbformat": 4,
 "nbformat_minor": 5
}
